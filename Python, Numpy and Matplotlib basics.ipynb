{
 "cells": [
  {
   "cell_type": "markdown",
   "id": "691fb17c",
   "metadata": {},
   "source": [
    "# Типы данных (Data Types)"
   ]
  },
  {
   "cell_type": "code",
   "execution_count": 1,
   "id": "88313a2a",
   "metadata": {},
   "outputs": [],
   "source": [
    "integer_number = 1 # неизменяемый, могут быть любой длинны (т.е длинная арифметика есть по умолчанию)\n",
    "                   # immutable, can be of any length (i.e. long arithmetic is by default)\n",
    "float_number = 1.0 # неизменяемый\n",
    "                   # immutable\n",
    "complex_number = 1.0 + 5.0j # неизменяемый\n",
    "                            # immutable\n",
    "string = \"Hello, world\" # неизменяемый\n",
    "                        # immutable\n",
    "string = 'Hello, world' # кавычки не имеют значения, но тройные можно переносить на другие строки\n",
    "                        # quotes doesn't matter, but triples can be moved to another line\n",
    "long_string = '''long\n",
    "long\n",
    "string'''\n",
    "new_line_another_way = 'ab c' + \\\n",
    "' '\n",
    "dict_ = {\"a\": integer_number, \"b\": float_number, \"c\": string} \n",
    "    # изменяемый (ключ -> значение) можно писать dict(...)\n",
    "    # в словарь в качестве ключа можно передавать только неизменяеммые значение\n",
    "    # mutable (key -> value) you can write dict(...)\n",
    "    # only immutable values can be passed to the dictionary as a key\n",
    "    \n",
    "set_ = set([1, 2, 3]) # хранит уникальные значения\n",
    "                      # stores unique values\n",
    "set_ = {1, 2, 3} \n",
    "    # НО! {} -- все же пустой словарь, а не множество\n",
    "    # в множество в качестве ключа можно передавать только неизменяеммые значение\n",
    "    # BUT! {} -- still an empty dictionary, not a set\n",
    "    # only immutable values can be passed to a set as a key\n",
    "array = [1, 2, 3] # изменяемый\n",
    "                  # mutable\n",
    "array = list([1, 2, 3]) # то же что строчкой выше\n",
    "                        # the same as the line above\n",
    "tuple_ = (1, 2, 3, 4) # неизменяемый\n",
    "                      # immutable\n",
    "bool_ = True # неизменяемый\n",
    "             # immutable\n",
    "bool_ = False"
   ]
  },
  {
   "cell_type": "markdown",
   "id": "7fa36063",
   "metadata": {},
   "source": [
    "# Операции над основными типами (Operations on basic types)"
   ]
  },
  {
   "cell_type": "code",
   "execution_count": 2,
   "id": "21848bb0",
   "metadata": {},
   "outputs": [
    {
     "data": {
      "text/plain": [
       "-2"
      ]
     },
     "execution_count": 2,
     "metadata": {},
     "output_type": "execute_result"
    }
   ],
   "source": [
    "string = string + string # создается новая строка\n",
    "                         # a new string is being created\n",
    "string = string * 5 # строка дублируется пять раз\n",
    "                    # the string is being duplicated five times\n",
    "set_ - set_ # получаем разность множеств\n",
    "            # we get the difference of sets\n",
    "set_.add(12) # добавить в множество\n",
    "             # add element to the set\n",
    "set_.remove(12) # удалить элемент\n",
    "                # remove element from the set\n",
    "set_.clear() # очистить\n",
    "             # remove all elements from set\n",
    "dict_['key'] = 'value' # добавить значение по ключу\n",
    "                       # add value by key\n",
    "\n",
    "tuple_ + tuple_ # создается новый tuple (кортеж)\n",
    "                # a new tuple is being created\n",
    "array + array \n",
    "bool_ and bool_ # логическое и\n",
    "                # logical and\n",
    "bool_ or bool_ # логическое или\n",
    "               # logical or\n",
    "# с числами доступны все основные операции\n",
    "# all basic operations are available with numbers\n",
    "integer_number + integer_number\n",
    "integer_number - integer_number\n",
    "integer_number * integer_number\n",
    "integer_number / integer_number # деление с плавающей точкой\n",
    "                                # floating point division\n",
    "integer_number // integer_number # целочисленное деление\n",
    "                                 # integer division\n",
    "integer_number ** integer_number # возведение в степень левый^{правый}\n",
    "                                 # exponentiation left^{right}\n",
    "integer_number % integer_number # остаток от деления (для целых чисел)\n",
    "                                # remainder of division (for integers)\n",
    "integer_number | integer_number # побитовое или\n",
    "                                # bitwise or\n",
    "integer_number & integer_number # побитовое и\n",
    "                                # bitwise and\n",
    "integer_number ^ integer_number # сложение по модулю 2 (xor)\n",
    "                                # addition modulo 2 (xor)\n",
    "~integer_number # инверсия битов (замена 0 на 1)\n",
    "                # bit inversion (replacing 0 with 1)"
   ]
  },
  {
   "cell_type": "markdown",
   "id": "157b018c",
   "metadata": {},
   "source": [
    "# Условные конструкции (Conditional constructions)"
   ]
  },
  {
   "cell_type": "code",
   "execution_count": 3,
   "id": "8767056d",
   "metadata": {},
   "outputs": [],
   "source": [
    "condition_1 = False\n",
    "condition_2 = False\n",
    "condition_3 = False\n",
    "if condition_1:\n",
    "    # сюда попадаем если condition_1 = True\n",
    "    # we get here if condition_1 = True\n",
    "    pass # команда, которая значит ничего не делать \n",
    "         # a command that means to do nothing\n",
    "elif condition_2:\n",
    "    pass # сюда попадаем если condition_1 = False, а condition_2 = True\n",
    "         # we get here if condition_1 = False and condition_2 = True\n",
    "elif condition_3:\n",
    "    pass # сюда попадаем если condition_1 = False, и condition_2 = False, а condition_3 = True\n",
    "         # we get here if condition_1 = False, and condition_2 = False, and condition_3 = True\n",
    "else:\n",
    "    pass # сюда попадаем если condition_1 = False, и condition_2 = False, и condition_3 = False\n",
    "         # we get here if condition_1 = False, and condition_2 = False, and condition_3 = False\n",
    "# можно использовать только if\n",
    "# можно использовать только if и elif\n",
    "# can only be used if\n",
    "# only if and elif can be used"
   ]
  },
  {
   "cell_type": "markdown",
   "id": "078458e9",
   "metadata": {},
   "source": [
    "# Вывод (Output)"
   ]
  },
  {
   "cell_type": "code",
   "execution_count": 4,
   "id": "b8f395b7",
   "metadata": {},
   "outputs": [
    {
     "name": "stdout",
     "output_type": "stream",
     "text": [
      "string\n",
      "a the end!(3+15j) для вывода выражений пишем f перед строкой и выражение в фигурные скобки\n",
      "(3+15j) to output expressions, write f before the string and the expression in curly brackets\n",
      " 1.24 через двоеточие можем указать сколько цифр вывести\n",
      " 1.24 using a colon, we can specify how many digits to output\n"
     ]
    }
   ],
   "source": [
    "print(\"string\", 'a', sep='\\n', end=' the end!')\n",
    "print(f\"{complex_number * 3} для вывода выражений пишем f перед строкой и выражение в фигурные скобки\")\n",
    "print(f\"{complex_number * 3} to output expressions, write f before the string and the expression in curly brackets\")\n",
    "float_number = 1.2414124124\n",
    "print(f\"{float_number: 0.2f} через двоеточие можем указать сколько цифр вывести\")\n",
    "print(f\"{float_number: 0.2f} using a colon, we can specify how many digits to output\")"
   ]
  },
  {
   "cell_type": "markdown",
   "id": "c857ed1d",
   "metadata": {},
   "source": [
    "# Циклы (Loops)"
   ]
  },
  {
   "cell_type": "code",
   "execution_count": 5,
   "id": "d83a9d0f",
   "metadata": {},
   "outputs": [
    {
     "name": "stdout",
     "output_type": "stream",
     "text": [
      "Wow!\n"
     ]
    }
   ],
   "source": [
    "array_1 = []\n",
    "for i in range(10): # range(n) возвращает числа 0, 1, ..., n - 1\n",
    "                    # range(n) returns the numbers 0, 1, ..., n - 1\n",
    "    array_1.append(i)\n",
    "array_2 = []\n",
    "for i in range(10, 20): # range(n, k) возвращает числа n, n + 1, ..., k - 1\n",
    "                        # # range(n, k) returns the numbers n, n + 1, ..., k - 1\n",
    "    array_2.append(i)\n",
    "array_3 = []\n",
    "for i in range(10, 20, 3): \n",
    "    # range(n, k, step) возвращает числа n, n + step, n + 2 * step, ..., число меньшее k - 1, \n",
    "    # но идущее с заданным шагом\n",
    "    # range(n, k, step) returns the numbers n, n + step, n + 2 * step, ..., a number smaller than k - 1,\n",
    "    # but going with a given step\n",
    "    array_3.append(i)\n",
    "else:\n",
    "    print(\"Wow!\") # да, есть конструкция for -> else\n",
    "    # yes, there is a for -> else expression\n",
    "array_4 = []\n",
    "condition = True\n",
    "i = 0\n",
    "while condition: # идет пока выполняется condition\n",
    "                 # is running while condition is True\n",
    "    array_4.append(i)\n",
    "    if i == 28:\n",
    "        condition = False\n",
    "    i += 1\n",
    "# while true -- бесконечный цикл\n",
    "# continue переходит на следующую итерацию цикла\n",
    "# break завершает цикл\n",
    "# while true -- infinite loop\n",
    "# continue moves to the next iteration of the loop\n",
    "# break completes the loop\n",
    "for i in [1, 2, 3]: # можно идти по массиву\n",
    "                    # you can go through the array\n",
    "    pass\n",
    "for key, value in {\"a\": 5}.items():\n",
    "    # по словарю, но если не написать items, то будет итерация по ключам\n",
    "    # by dictionary, but if you don't write items, then there will be an iteration by keys\n",
    "    pass\n",
    "# и по другим коллекциям set, tuple, ...\n",
    "# and for other collections set, tuple, ..."
   ]
  },
  {
   "cell_type": "markdown",
   "id": "08150e4b",
   "metadata": {},
   "source": [
    "# Функции (Functions)"
   ]
  },
  {
   "cell_type": "markdown",
   "id": "e8f3742a",
   "metadata": {},
   "source": [
    "Объявляется с помощью ключевого слова ***def***\n",
    "\n",
    "Declared using the keyword ***def***"
   ]
  },
  {
   "cell_type": "code",
   "execution_count": 6,
   "id": "25218a1f",
   "metadata": {},
   "outputs": [],
   "source": [
    "def functionName(a, b, c, d):\n",
    "    return a\n",
    "# ничего особенного, просто функции\n",
    "# nothing special, just functions"
   ]
  },
  {
   "cell_type": "markdown",
   "id": "a72f5640",
   "metadata": {},
   "source": [
    "# Генераторы (Generators)"
   ]
  },
  {
   "cell_type": "markdown",
   "id": "d3cb538d",
   "metadata": {},
   "source": [
    "Генераторы обычно передаются в for после ключевого слова in,\n",
    "они не хранят весь объект в памяти, а в процессе вызова выдают новые значения,\n",
    "т.е. если мы будем брать значения из генератора ***range(10\\*\\*10000000000000)*** у нас не создастся громадный массив, а числа будут появляться на ходу, что экономит память и часто время.\n",
    "***yield from*** берет элементы из другого генератора или итерируемого объекта\n",
    "\n",
    "Generators are usually passed to for after the in keyword,\n",
    "they do not store the entire object in memory, but give new values during the call,\n",
    "i.e. if we take values from the ***range generator(10\\*\\*10000000000000)*** we will not create a huge array, but the numbers will be appear on the fly, which saves memory and often time.\n",
    "***yield from*** takes elements from another generator or iterable object"
   ]
  },
  {
   "cell_type": "code",
   "execution_count": 7,
   "id": "5fefb4ba",
   "metadata": {},
   "outputs": [],
   "source": [
    "def functionName(a, b, c, d):\n",
    "    for i in range(40):\n",
    "        # range тоже генератор\n",
    "        # range is also a generator\n",
    "        yield i\n",
    "    yield from range(1, 10)"
   ]
  },
  {
   "cell_type": "markdown",
   "id": "7d4a1104",
   "metadata": {},
   "source": [
    "# Классы (Classes)"
   ]
  },
  {
   "cell_type": "code",
   "execution_count": 8,
   "id": "785b03e6",
   "metadata": {},
   "outputs": [],
   "source": [
    "class A(): # в скобках можно указать от кого наследуется\n",
    "    # in parentheses, you can specify from whom it is inherited\n",
    "    a = 5 # поле класса\n",
    "          # class field\n",
    "    def __init__(self): # можно сказать конструктор класса, а self -- аналог this\n",
    "                        # like the constructor of the class, and self is an analogue of this\n",
    "        self.a = 7\n",
    "    # есть еще много важных методов для класса, но это лучше в документации читать\n",
    "    # there are many more important methods for the class, but it's better to read in the documentation"
   ]
  },
  {
   "cell_type": "code",
   "execution_count": 9,
   "id": "879eb414",
   "metadata": {},
   "outputs": [
    {
     "data": {
      "text/plain": [
       "7"
      ]
     },
     "execution_count": 9,
     "metadata": {},
     "output_type": "execute_result"
    }
   ],
   "source": [
    "cl = A() # создание экземпляра класса\n",
    "         # creating an instance of a class\n",
    "cl.a # доступ к полю класса\n",
    "     # access to the class field"
   ]
  },
  {
   "cell_type": "markdown",
   "id": "35ca1ffa",
   "metadata": {},
   "source": [
    "# Импорт (подключение) модулей (библиотек)\n",
    "# Import of modules"
   ]
  },
  {
   "cell_type": "code",
   "execution_count": 10,
   "id": "24d13cf0",
   "metadata": {},
   "outputs": [],
   "source": [
    "import numpy # просто подключили и можем через numpy. обращаться к нужным методам и полям\n",
    "             # just imported and we can use numpy. refer to the necessary methods and fields\n",
    "import numpy as np # дали псевдоним и теперь можно обращаться через np.\n",
    "                   # given an alias so now we can access to the necessary methods and fields via np.\n",
    "                   # для numpy принят псевдоним np\n",
    "                   # the alias np is accepted for numpy\n",
    "from matplotlib import * \n",
    "# заимпортить все что есть в модуле matplotlib и можно обращаться без указания matplotlib. \n",
    "# (плохой стиль, не пишите так)\n",
    "# \n",
    "# import everything that is in the matplotlib module and can be accessed without matplotlib. \n",
    "# (bad style, don't write like that)\n",
    "from matplotlib import pyplot, afm # лучше только что нужно\n",
    "                                   # better just what you need\n",
    "from matplotlib import pyplot as plt, afm as afm # можно с псевдонимами\n",
    "                                                 # it is possible with aliases\n",
    "import matplotlib.pyplot as plt # можно и так\n",
    "                                # and this way\n",
    "# после импорта многое кэшируется, поэтому если в первый раз после импорта что-то написало, \n",
    "# то во второй раз может уже и не написать проверьте дважды импортнув модуль this\n",
    "# для matplotlib.pyplot используют псевдоним plt\n",
    "# after the import, a lot is cached, so if something was written for the first time after the import,\n",
    "# then the second time you may not write, double-check the import of this module\n",
    "# the alias plt is used for matplotlib.pyplot"
   ]
  },
  {
   "cell_type": "markdown",
   "id": "3a75c46e",
   "metadata": {},
   "source": [
    "# Фишки (Tricks)"
   ]
  },
  {
   "cell_type": "code",
   "execution_count": 11,
   "id": "f20e2cd1",
   "metadata": {
    "scrolled": true
   },
   "outputs": [
    {
     "name": "stdout",
     "output_type": "stream",
     "text": [
      "1 4\n",
      "2 5\n",
      "3 6\n",
      "The Zen of Python, by Tim Peters\n",
      "\n",
      "Beautiful is better than ugly.\n",
      "Explicit is better than implicit.\n",
      "Simple is better than complex.\n",
      "Complex is better than complicated.\n",
      "Flat is better than nested.\n",
      "Sparse is better than dense.\n",
      "Readability counts.\n",
      "Special cases aren't special enough to break the rules.\n",
      "Although practicality beats purity.\n",
      "Errors should never pass silently.\n",
      "Unless explicitly silenced.\n",
      "In the face of ambiguity, refuse the temptation to guess.\n",
      "There should be one-- and preferably only one --obvious way to do it.\n",
      "Although that way may not be obvious at first unless you're Dutch.\n",
      "Now is better than never.\n",
      "Although never is often better than *right* now.\n",
      "If the implementation is hard to explain, it's a bad idea.\n",
      "If the implementation is easy to explain, it may be a good idea.\n",
      "Namespaces are one honking great idea -- let's do more of those!\n"
     ]
    }
   ],
   "source": [
    "a, b = 5, 7 # т.е. можно в одну строку объявлять переменные\n",
    "            # that is, it is possible to declare variables in one line\n",
    "a, b = b, a # поменять значения a и b местами\n",
    "            # swap the values of a and b\n",
    "tuple_ = (3, 4, 5, 6)\n",
    "a, b, *c = tuple_ # распаковка первое число пойдет в a, второе в b, а остальные в c\n",
    "                  # unpacking the first number will go to a, the second to b, and the rest to c\n",
    "# когда мы пишем a, b, c, d = f, m, n, k вообще-то как раз и происходит распаковка двух tuple\n",
    "# when we write a, b, c, d = f, m, n, k, actually, the unpacking of two tuples takes place\n",
    "# поэтому a, b -- это tuple и такой код -- валидный\n",
    "# therefore, a, b are tuple and such code is valid\n",
    "# если переменных больше, то будет ошибка\n",
    "# if there are more variables, there will be an error\n",
    "zip([1, 2, 3], {5: \"sa\", 7: \"das\"})\n",
    "# генератор, который идет по двум коллекциям и берет последовательно \n",
    "# элементы первый из первой коллекции, первый из второй, затем второй из первой и второй из второй\n",
    "# и так далее пока одна из коллекций не закончится и возвращает эти элементы парой и при помощи распаковки\n",
    "# можно сделать так:\n",
    "# a generator that goes through two collections and takes sequentially\n",
    "# items first from the first collection, first from the second, then the second from the first and the second from the second\n",
    "# and so on until one of the collections runs out and returns these elements in pairs and by unpacking\n",
    "# you can do this:\n",
    "\n",
    "for left, right in zip([1, 2, 3], [4, 5, 6, 7]):\n",
    "    print(left, right)\n",
    "# как писать на питоне, советы:)\n",
    "# how to write in python, tips:)\n",
    "import this "
   ]
  },
  {
   "cell_type": "markdown",
   "id": "395d48c1",
   "metadata": {},
   "source": [
    "# Numpy"
   ]
  },
  {
   "cell_type": "code",
   "execution_count": 12,
   "id": "051d1447",
   "metadata": {},
   "outputs": [
    {
     "data": {
      "text/plain": [
       "(12, (4, 3))"
      ]
     },
     "execution_count": 12,
     "metadata": {},
     "output_type": "execute_result"
    }
   ],
   "source": [
    "array = np.array([1, 2, 3])\n",
    "# аналог массива питона, но с кучей функций и методов, плюс есть операции над матрицами\n",
    "# и быстрее, поскольку написан на c++ (очень оптимально)\n",
    "# analogous to python array, but with a bunch of functions and methods, plus there are operations on matrices\n",
    "# and faster, because it is written in c++ (very optimal)\n",
    "array = np.array([[1, 2, 3], [4, 5, 6], [7, 8, 9], [10, 11, 12]])\n",
    " #-- число элементов\n",
    "#-- number of elements\n",
    "array.size, array.shape \n",
    "# число элементов массива (матрицы), размеры (для двумерной (число строк, число столбцов))\n",
    "# number of array elements (matrix), dimensions (for two-dimensional (number of rows, number of columns))"
   ]
  },
  {
   "cell_type": "code",
   "execution_count": 13,
   "id": "60dfda1d",
   "metadata": {},
   "outputs": [
    {
     "data": {
      "text/plain": [
       "array([[ 1,  2,  3],\n",
       "       [ 4,  5,  6],\n",
       "       [ 7,  8,  9],\n",
       "       [10, 11, 12]])"
      ]
     },
     "execution_count": 13,
     "metadata": {},
     "output_type": "execute_result"
    }
   ],
   "source": [
    "array"
   ]
  },
  {
   "cell_type": "code",
   "execution_count": 14,
   "id": "acff7efd",
   "metadata": {},
   "outputs": [
    {
     "data": {
      "text/plain": [
       "(array([[ 1],\n",
       "        [ 2],\n",
       "        [ 3],\n",
       "        [ 4],\n",
       "        [ 5],\n",
       "        [ 6],\n",
       "        [ 7],\n",
       "        [ 8],\n",
       "        [ 9],\n",
       "        [10],\n",
       "        [11],\n",
       "        [12]]),\n",
       " array([[ 1,  2,  3,  4,  5,  6,  7,  8,  9, 10, 11, 12]]))"
      ]
     },
     "execution_count": 14,
     "metadata": {},
     "output_type": "execute_result"
    }
   ],
   "source": [
    "array.reshape((-1, 1)), array.reshape((1, -1)) \n",
    "# изменяет shape когда -1 все идет по этой размерности\n",
    "# changes shape when -1 everything goes according to this dimension"
   ]
  },
  {
   "cell_type": "code",
   "execution_count": 15,
   "id": "b39dde7c",
   "metadata": {},
   "outputs": [
    {
     "data": {
      "text/plain": [
       "array([[ 1,  2,  3,  4,  5,  6],\n",
       "       [ 7,  8,  9, 10, 11, 12]])"
      ]
     },
     "execution_count": 15,
     "metadata": {},
     "output_type": "execute_result"
    }
   ],
   "source": [
    "array.reshape((2, 6))\n",
    "# можно и явно указать\n",
    "# you can also explicitly specify"
   ]
  },
  {
   "cell_type": "code",
   "execution_count": 16,
   "id": "6a1ec5d9",
   "metadata": {},
   "outputs": [
    {
     "data": {
      "text/plain": [
       "array([[1., 0., 0., 0., 0.],\n",
       "       [0., 1., 0., 0., 0.],\n",
       "       [0., 0., 1., 0., 0.],\n",
       "       [0., 0., 0., 1., 0.],\n",
       "       [0., 0., 0., 0., 1.]])"
      ]
     },
     "execution_count": 16,
     "metadata": {},
     "output_type": "execute_result"
    }
   ],
   "source": [
    "np.zeros((10, 10)) # массив из нулей с shape указанным первым аргументом в tuple\n",
    "                   # array of zeros with shape specified by the first argument in tuple\n",
    "np.ones((10, 10)) # массив из единиц с shape указанным первым аргументом в tuple\n",
    "                  # array of ones with shape specified by the first argument in tuple\n",
    "np.eye(5) # единичная матрица размера n на n\n",
    "          # a unit matrix of size n by n"
   ]
  },
  {
   "cell_type": "code",
   "execution_count": 17,
   "id": "c8ef0c6b",
   "metadata": {},
   "outputs": [
    {
     "data": {
      "text/plain": [
       "array([[  1,   4,   9],\n",
       "       [ 16,  25,  36],\n",
       "       [ 49,  64,  81],\n",
       "       [100, 121, 144]])"
      ]
     },
     "execution_count": 17,
     "metadata": {},
     "output_type": "execute_result"
    }
   ],
   "source": [
    "array * array \n",
    "# поэлементное умножение матриц, для одномерных -- скалярное произведение\n",
    "# element-wise matrix multiplication, for one-dimensional - scalar product"
   ]
  },
  {
   "cell_type": "code",
   "execution_count": 18,
   "id": "6ae696a6",
   "metadata": {},
   "outputs": [
    {
     "data": {
      "text/plain": [
       "array([[ 1,  4,  7, 10],\n",
       "       [ 2,  5,  8, 11],\n",
       "       [ 3,  6,  9, 12]])"
      ]
     },
     "execution_count": 18,
     "metadata": {},
     "output_type": "execute_result"
    }
   ],
   "source": [
    "array.transpose()\n",
    "# транспонирование матриц\n",
    "# matrix transpose"
   ]
  },
  {
   "cell_type": "code",
   "execution_count": 19,
   "id": "493ed66d",
   "metadata": {},
   "outputs": [
    {
     "data": {
      "text/plain": [
       "array([[1, 2, 3],\n",
       "       [4, 5, 6],\n",
       "       [7, 8, 9]])"
      ]
     },
     "execution_count": 19,
     "metadata": {},
     "output_type": "execute_result"
    }
   ],
   "source": [
    "array[:3, :4]\n",
    "# взятие по индексу сначала строки : -- значит все (там передается в виде от:до, где \n",
    "# от:до = [от, до), можно еще от:до:шаг\n",
    "# taking the line by index first : -- means everything (it is passed there in the form from:to, where\n",
    "# from:to = [from, to), you can also from:to:step"
   ]
  },
  {
   "cell_type": "code",
   "execution_count": 20,
   "id": "ceb167fa",
   "metadata": {},
   "outputs": [
    {
     "data": {
      "text/plain": [
       "array([[ 3.15251974e+15, -6.30503948e+15,  3.15251974e+15],\n",
       "       [-6.30503948e+15,  1.26100790e+16, -6.30503948e+15],\n",
       "       [ 3.15251974e+15, -6.30503948e+15,  3.15251974e+15]])"
      ]
     },
     "execution_count": 20,
     "metadata": {},
     "output_type": "execute_result"
    }
   ],
   "source": [
    "np.linalg.inv(array[:3, :4])\n",
    "# обратная матрица\n",
    "# inverse matrix"
   ]
  },
  {
   "cell_type": "code",
   "execution_count": 21,
   "id": "53a2c106",
   "metadata": {},
   "outputs": [
    {
     "data": {
      "text/plain": [
       "array([ 0.,  0., -0.])"
      ]
     },
     "execution_count": 21,
     "metadata": {},
     "output_type": "execute_result"
    }
   ],
   "source": [
    "np.linalg.solve(array[:3, :3], [0, 0, 0]) # Ax = b"
   ]
  },
  {
   "cell_type": "code",
   "execution_count": 22,
   "id": "3482e1f8",
   "metadata": {},
   "outputs": [
    {
     "data": {
      "text/plain": [
       "array([[ 14,  32,  50,  68],\n",
       "       [ 32,  77, 122, 167],\n",
       "       [ 50, 122, 194, 266],\n",
       "       [ 68, 167, 266, 365]])"
      ]
     },
     "execution_count": 22,
     "metadata": {},
     "output_type": "execute_result"
    }
   ],
   "source": [
    "array @ array.transpose() \n",
    "# матричное умножение\n",
    "# matrix multiplication"
   ]
  },
  {
   "cell_type": "code",
   "execution_count": 23,
   "id": "8ede6523",
   "metadata": {},
   "outputs": [
    {
     "data": {
      "text/plain": [
       "array([[1, 2, 3],\n",
       "       [4, 5, 6]])"
      ]
     },
     "execution_count": 23,
     "metadata": {},
     "output_type": "execute_result"
    }
   ],
   "source": [
    "np.hstack(([1, 2, 3], [4, 5, 6]))\n",
    "# если две матрицы A B с одинаковым числом столбцов то получим матрицу\n",
    "# A B (т.е просто приставили рядом по горизонтали)\n",
    "# if two matrices A B with the same number of columns, then we get the matrix\n",
    "# A B (i.e. just put next to horizontally)\n",
    "np.vstack(([1, 2, 3], [4, 5, 6]))\n",
    "# если две матрицы A B с одинаковым числом столбцов то получим матрицу\n",
    "# A \n",
    "# B (т.е просто приставили снизу по вертикали)\n",
    "# if there are two matrices A B with the same number of columns, then we get the matrix\n",
    "# A\n",
    "# B (i.e. just put it vertically from below)"
   ]
  },
  {
   "cell_type": "code",
   "execution_count": 24,
   "id": "eab86485",
   "metadata": {},
   "outputs": [],
   "source": [
    "start, finish, step = 1, 40, 0.4\n",
    "np.arange(start, finish, step)\n",
    "# генерирует числа из [start, finish) с шагом step (1 по умолчанию)\n",
    "# с одним аргументом это просто [start, finish) с шагом 1\n",
    "# generates numbers from [start, finish) with step (1 by default)\n",
    "# with one argument, it's just [start, finish) with step 1\n",
    "number_of_values = 100\n",
    "np.linspace(start, finish, number_of_values);\n",
    "# генерирует числа из [start, finish] в количестве number_of_values\n",
    "# ; ограничивает для jupyter notebook вывод последней строки (т.к. только она выводится, если не было принтов)\n",
    "# generates numbers from [start, finish] in the number of number_of_values\n",
    "# ; restricts the output of the last line for jupiter notebook (because only it is output if there were no prints)"
   ]
  },
  {
   "cell_type": "code",
   "execution_count": 25,
   "id": "ef68cbbb",
   "metadata": {},
   "outputs": [
    {
     "data": {
      "text/plain": [
       "array([[2, 2, 3, ..., 2, 3, 3],\n",
       "       [3, 3, 3, ..., 1, 3, 1],\n",
       "       [2, 3, 1, ..., 1, 3, 3],\n",
       "       ...,\n",
       "       [3, 3, 2, ..., 3, 3, 3],\n",
       "       [3, 3, 3, ..., 3, 3, 3],\n",
       "       [3, 3, 3, ..., 3, 3, 3]])"
      ]
     },
     "execution_count": 25,
     "metadata": {},
     "output_type": "execute_result"
    }
   ],
   "source": [
    "np.random.normal\n",
    "# можно генерировать число из нормального и других распределений при помощи np.random\n",
    "# it is possible to generate a number from normal and other distributions using np.random\n",
    "np.random.choice([1, 2, 3], size=(100, 100), p=[0.1, 0.2, 0.7]) \n",
    "# генерирует выборку с shape = size из элементов переданной коллекции [x_{1}, ..., x_{n}] \n",
    "# с вероятностью выбрать элемент x_{i} равной p_{i}\n",
    "# generates a selection with shape = size from the elements of the passed collection [x_{1}, ..., x_{n}]\n",
    "# with the probability of selecting an element x_{i} equal to p_{i}"
   ]
  },
  {
   "cell_type": "code",
   "execution_count": 26,
   "id": "27d3ddab",
   "metadata": {},
   "outputs": [
    {
     "data": {
      "text/plain": [
       "array([[ 5, 10, 15],\n",
       "       [20, 25, 30],\n",
       "       [35, 40, 45],\n",
       "       [50, 55, 60]])"
      ]
     },
     "execution_count": 26,
     "metadata": {},
     "output_type": "execute_result"
    }
   ],
   "source": [
    "array + array\n",
    "array * array\n",
    "array - array\n",
    "array / array\n",
    "array[:3, :3] @ array[:3, :3]\n",
    "5 * array\n",
    "# операции над матрицами, обычно поэлементные, но есть и посложнее вещи, можно найти в документации\n",
    "# например про broadcasting\n",
    "# operations on matrices, usually element-wise, but there are more complicated things, you can find in the documentation\n",
    "# for example about broadcasting"
   ]
  },
  {
   "cell_type": "markdown",
   "id": "1e9c7a6c",
   "metadata": {},
   "source": [
    "# Matplotlib"
   ]
  },
  {
   "cell_type": "code",
   "execution_count": 27,
   "id": "a14e14e1",
   "metadata": {},
   "outputs": [],
   "source": [
    "import matplotlib.pyplot as plt"
   ]
  },
  {
   "cell_type": "code",
   "execution_count": 28,
   "id": "59015821",
   "metadata": {},
   "outputs": [
    {
     "data": {
      "image/png": "[encoded data removed]",
      "text/plain": [
       "<Figure size 432x288 with 1 Axes>"
      ]
     },
     "metadata": {
      "needs_background": "light"
     },
     "output_type": "display_data"
    }
   ],
   "source": [
    "array = [\"Two\", \"Three\", \"One\", \"Three\", \"Two\", \"Three\"]\n",
    "plt.hist(array);\n",
    "# считает уникальные значения и строит по ним столбики\n",
    "# counts unique values and builds columns based on them"
   ]
  },
  {
   "cell_type": "code",
   "execution_count": 29,
   "id": "7b5edcee",
   "metadata": {},
   "outputs": [
    {
     "data": {
      "image/png": "[encoded data removed]",
      "text/plain": [
       "<Figure size 432x288 with 1 Axes>"
      ]
     },
     "metadata": {},
     "output_type": "display_data"
    }
   ],
   "source": [
    "array = [50, 20, 20, 10]\n",
    "plt.pie(array, labels=['one', 'two', 'three', 'four']);\n",
    "# отображает проценты\n",
    "# displays percentages"
   ]
  },
  {
   "cell_type": "code",
   "execution_count": 30,
   "id": "3ff86cda",
   "metadata": {},
   "outputs": [
    {
     "data": {
      "image/png": "[encoded data removed]",
      "text/plain": [
       "<Figure size 432x288 with 1 Axes>"
      ]
     },
     "metadata": {
      "needs_background": "light"
     },
     "output_type": "display_data"
    }
   ],
   "source": [
    "x = np.linspace(-5, 5, 200)\n",
    "y = np.sin(x)\n",
    "plt.plot(x, y, color='red', label='sin')\n",
    "# соединяет точки последовательно, поэтому надо сортить по x\n",
    "# connects the points sequentially, so you need to sort by x\n",
    "plt.xlim(-3, 3)\n",
    "# ограничивает график по оси х\n",
    "# limits the plot along the x axis\n",
    "plt.ylim(-3, 3)\n",
    "# ограничивает график по оси y\n",
    "# limits the plot along the y axis\n",
    "plt.legend();\n",
    "# чтобы показывало метку\n",
    "# to show the label"
   ]
  },
  {
   "cell_type": "code",
   "execution_count": 31,
   "id": "16e0956b",
   "metadata": {},
   "outputs": [
    {
     "data": {
      "image/png": "[encoded data removed]",
      "text/plain": [
       "<Figure size 1008x360 with 6 Axes>"
      ]
     },
     "metadata": {
      "needs_background": "light"
     },
     "output_type": "display_data"
    }
   ],
   "source": [
    "# так можно рисовать много маленьких графиков\n",
    "# so you can draw a lot of small plots\n",
    "fig, ax = plt.subplots(2, 3, figsize=(14, 5))\n",
    "# figsize -- размер графика\n",
    "# figsize -- chart size\n",
    "ax[0, 0].plot(x, y);\n",
    "# ax[i, j] -- позиция графика в таблице\n",
    "# ax[i, j] -- chart position in the table"
   ]
  },
  {
   "cell_type": "code",
   "execution_count": 32,
   "id": "9460ca2a",
   "metadata": {},
   "outputs": [
    {
     "data": {
      "image/png": "[encoded data removed]",
      "text/plain": [
       "<Figure size 432x288 with 1 Axes>"
      ]
     },
     "metadata": {
      "needs_background": "light"
     },
     "output_type": "display_data"
    }
   ],
   "source": [
    "plt.scatter(x, y, c=y > 0);\n",
    "# рисует точку с координатами (x, y)\n",
    "# draws a point with coordinates (x, y)"
   ]
  },
  {
   "cell_type": "code",
   "execution_count": 33,
   "id": "7a081f6b",
   "metadata": {},
   "outputs": [
    {
     "data": {
      "image/png": "[encoded data removed]",
      "text/plain": [
       "<Figure size 432x288 with 1 Axes>"
      ]
     },
     "metadata": {
      "needs_background": "light"
     },
     "output_type": "display_data"
    }
   ],
   "source": [
    "x = np.linspace(-5, 5, 200)\n",
    "y = np.sin(x)\n",
    "plt.plot(x, y, color='red', label='sin')\n",
    "# соединяет точки последовательно, поэтому надо сортить по x\n",
    "# connects the points sequentially, so you need to sort by x\n",
    "plt.plot(x, np.cos(x), color='blue', label='cos')\n",
    "# соединяет точки последовательно, поэтому надо сортить по x\n",
    "# connects the points sequentially, so you need to sort by x\n",
    "plt.xlim(-3, 3)\n",
    "# ограничивает график по оси x\n",
    "# limits the plot along the x axis\n",
    "plt.ylim(-3, 3)\n",
    "# ограничивает график по оси y\n",
    "# limits the plot along the y axis\n",
    "plt.legend();\n",
    "# чтобы показывало метку\n",
    "# to show the label"
   ]
  },
  {
   "cell_type": "code",
   "execution_count": null,
   "id": "d5e26210",
   "metadata": {},
   "outputs": [],
   "source": []
  }
 ],
 "metadata": {
  "kernelspec": {
   "display_name": "Python 3 (ipykernel)",
   "language": "python",
   "name": "python3"
  },
  "language_info": {
   "codemirror_mode": {
    "name": "ipython",
    "version": 3
   },
   "file_extension": ".py",
   "mimetype": "text/x-python",
   "name": "python",
   "nbconvert_exporter": "python",
   "pygments_lexer": "ipython3",
   "version": "3.8.8"
  }
 },
 "nbformat": 4,
 "nbformat_minor": 5
}
